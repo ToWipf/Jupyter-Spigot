{
 "cells": [
  {
   "cell_type": "code",
   "execution_count": 2,
   "metadata": {},
   "outputs": [
    {
     "name": "stdout",
     "output_type": "stream",
     "text": [
      "/home/wipf\n"
     ]
    }
   ],
   "source": [
    "cd /home/wipf\n",
    "pwd"
   ]
  },
  {
   "cell_type": "code",
   "execution_count": 3,
   "metadata": {},
   "outputs": [],
   "source": [
    "mkdir -p minecraft/server\n",
    "mkdir -p minecraft/build\n",
    "cd minecraft/build"
   ]
  },
  {
   "cell_type": "markdown",
   "metadata": {},
   "source": [
    "### Install Java\n",
    "\n",
    "Warning: `sudo` here"
   ]
  },
  {
   "cell_type": "code",
   "execution_count": 14,
   "metadata": {},
   "outputs": [
    {
     "name": "stdout",
     "output_type": "stream",
     "text": [
      "[sudo] password for wipf: \r\n"
     ]
    }
   ],
   "source": [
    "sudo apt install gcj-jre -y\n",
    "sudo apt-get install default-jre\n",
    "sudo apt install java-common \n",
    "sudo apt install java-package\n",
    "sudo apt install git"
   ]
  },
  {
   "cell_type": "code",
   "execution_count": 21,
   "metadata": {},
   "outputs": [
    {
     "name": "stdout",
     "output_type": "stream",
     "text": [
      "--2018-03-20 17:32:51--  https://hub.spigotmc.org/jenkins/job/BuildTools/71/artifact/target/BuildTools.jar\n",
      "Resolving hub.spigotmc.org (hub.spigotmc.org)... 104.27.200.92, 104.27.201.92, 2400:cb00:2048:1::681b:c85c, ...\n",
      "Connecting to hub.spigotmc.org (hub.spigotmc.org)|104.27.200.92|:443... connected.\n",
      "HTTP request sent, awaiting response... 200 OK\n",
      "Length: 3965192 (3.8M) [application/java-archive]\n",
      "Saving to: ‘BuildTools.jar’\n",
      "\n",
      "BuildTools.jar      100%[===================>]   3.78M  1.34MB/s    in 2.8s    \n",
      "\n",
      "Last-modified header invalid -- time-stamp ignored.\n",
      "2018-03-20 17:32:54 (1.34 MB/s) - ‘BuildTools.jar’ saved [3965192/3965192]\n",
      "\n"
     ]
    }
   ],
   "source": [
    "wget https://hub.spigotmc.org/jenkins/job/BuildTools/71/artifact/target/BuildTools.jar"
   ]
  },
  {
   "cell_type": "code",
   "execution_count": null,
   "metadata": {},
   "outputs": [],
   "source": [
    "java -jar BuildTools.jar"
   ]
  },
  {
   "cell_type": "code",
   "execution_count": 6,
   "metadata": {},
   "outputs": [],
   "source": [
    "cd .."
   ]
  },
  {
   "cell_type": "code",
   "execution_count": 7,
   "metadata": {},
   "outputs": [],
   "source": [
    "mv build/spigot-1.12.2.jar server/spigot.jar"
   ]
  },
  {
   "cell_type": "code",
   "execution_count": 9,
   "metadata": {},
   "outputs": [],
   "source": [
    "cd server"
   ]
  },
  {
   "cell_type": "code",
   "execution_count": 10,
   "metadata": {},
   "outputs": [
    {
     "name": "stdout",
     "output_type": "stream",
     "text": [
      "Loading libraries, please wait...\n",
      "[18:01:34 INFO]: Starting minecraft server version 1.12.2\n",
      "[18:01:34 INFO]: Loading properties\n",
      "[18:01:34 WARN]: server.properties does not exist\n",
      "[18:01:34 INFO]: Generating new properties file\n",
      "[18:01:34 WARN]: Failed to load eula.txt\n",
      "[18:01:34 INFO]: You need to agree to the EULA in order to run the server. Go to eula.txt for more info.\n",
      "[18:01:34 INFO]: Stopping server\n",
      ">"
     ]
    }
   ],
   "source": [
    "java -jar -Xmx2048M spigot.jar"
   ]
  }
 ],
 "metadata": {
  "kernelspec": {
   "display_name": "Bash",
   "language": "bash",
   "name": "bash"
  },
  "language_info": {
   "codemirror_mode": "shell",
   "file_extension": ".sh",
   "mimetype": "text/x-sh",
   "name": "bash"
  }
 },
 "nbformat": 4,
 "nbformat_minor": 2
}
